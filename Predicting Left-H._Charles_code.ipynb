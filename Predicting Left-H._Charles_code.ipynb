{
 "cells": [
  {
   "cell_type": "markdown",
   "metadata": {},
   "source": [
    "## Week 4, Lab 1: Predicting Left-Handedness from Psychological Factors\n",
    "> Author: Matt Brems\n",
    "\n",
    "We can sketch out the data science process as follows:\n",
    "1. Define the problem.\n",
    "2. Obtain the data.\n",
    "3. Explore the data.\n",
    "4. Model the data.\n",
    "5. Evaluate the model.\n",
    "6. Answer the problem.\n",
    "\n",
    "We'll walk through a full data science problem in this lab. "
   ]
  },
  {
   "cell_type": "code",
   "execution_count": 2,
   "metadata": {},
   "outputs": [],
   "source": [
    "import numpy as np\n",
    "import pandas as pd\n",
    "import matplotlib.pyplot as plt\n",
    "import seaborn as sns\n",
    "from sklearn.preprocessing import scale\n",
    "import warnings; warnings.simplefilter('ignore')"
   ]
  },
  {
   "cell_type": "markdown",
   "metadata": {},
   "source": [
    "---\n",
    "## Step 1: Define The Problem.\n",
    "\n",
    "You're currently a data scientist working at a university. A professor of psychology is attempting to study the relationship between personalities and left-handedness. They have tasked you with gathering evidence so that they may publish.\n",
    "\n",
    "Specifically, the professor says \"I need to prove that left-handedness is caused by some personality trait. Go find that personality trait and the data to back it up.\"\n",
    "\n",
    "As a data scientist, you know that any real data science problem must be **specific** and **conclusively answerable**. For example:\n",
    "- Bad data science problem: \"What is the link between obesity and blood pressure?\"\n",
    "    - This is vague and is not conclusively answerable. That is, two people might look at the conclusion and one may say \"Sure, the problem has been answered!\" and the other may say \"The problem has not yet been answered.\"\n",
    "- Good data science problem: \"Does an association exist between obesity and blood pressure?\"\n",
    "    - This is more specific and is conclusively answerable. The problem specifically is asking for a \"Yes\" or \"No\" answer. Based on that, two independent people should both be able to say either \"Yes, the problem has been answered\" or \"No, the problem has not yet been answered.\"\n",
    "- Excellent data science problem: \"As obesity increases, how does blood pressure change?\"\n",
    "    - This is very specific and is conclusively answerable. The problem specifically seeks to understand the effect of one variable on the other.\n",
    "\n",
    "### 1. In the context of the left-handedness and personality example, what are three specific and conclusively answerable problems that you could answer using data science? \n",
    "\n",
    "> You might find it helpful to check out the codebook in the repo for some inspiration."
   ]
  },
  {
   "cell_type": "markdown",
   "metadata": {},
   "source": [
    "Answer: \n",
    "Testing the nature of left-handedness requires exprimentation in the early years of childhood, being their parents if controlling and restrictive may \"nuture\" out this nature to instil right-handedness.\n",
    "Observation of instructors in order to obtain methodology for hoe students are taught to wrie academcially. \n",
    "Population consensus between introverted humans and their preference of right over left visa versa. "
   ]
  },
  {
   "cell_type": "markdown",
   "metadata": {},
   "source": [
    "---\n",
    "## Step 2: Obtain the data.\n",
    "\n",
    "### 2. Read in the file titled \"data.csv.\"\n",
    "> Hint: Despite being saved as a .csv file, you won't be able to simply `pd.read_csv()` this data!"
   ]
  },
  {
   "cell_type": "code",
   "execution_count": 3,
   "metadata": {},
   "outputs": [],
   "source": [
    "data = pd.read_csv('~/Desktop/DSI/Submissions/LAbs/4.01-lab-classification-model-comparison-master/4.01-lab-classification-model-comparison-master/data/data.csv')"
   ]
  },
  {
   "cell_type": "markdown",
   "metadata": {},
   "source": [
    "### 3. Suppose that, instead of us giving you this data in a file, you were actually conducting a survey to gather this data yourself. From an ethics/privacy point of view, what are three things you might consider when attempting to gather this data?\n",
    "> When working with sensitive data like sexual orientation or gender identity, we need to consider how this data could be used if it fell into the wrong hands!"
   ]
  },
  {
   "cell_type": "markdown",
   "metadata": {},
   "source": [
    "Answer:\n",
    "Merely conduct the trials of data collection under anonoymous alias to ensure privacy, additionally have all humans involved in the data collection process sign NDA( Non-disclosure agreements.) forms before supplying personal information. \n",
    "Furthermore, "
   ]
  },
  {
   "cell_type": "markdown",
   "metadata": {},
   "source": [
    "---\n",
    "## Step 3: Explore the data.\n",
    "\n",
    "### 4. Conduct exploratory data analysis on this dataset.\n",
    "> If you haven't already, be sure to check out the codebook in the repo, as that will help in your EDA process."
   ]
  },
  {
   "cell_type": "code",
   "execution_count": 4,
   "metadata": {},
   "outputs": [
    {
     "data": {
      "text/plain": [
       "Q1\\tQ2\\tQ3\\tQ4\\tQ5\\tQ6\\tQ7\\tQ8\\tQ9\\tQ10\\tQ11\\tQ12\\tQ13\\tQ14\\tQ15\\tQ16\\tQ17\\tQ18\\tQ19\\tQ20\\tQ21\\tQ22\\tQ23\\tQ24\\tQ25\\tQ26\\tQ27\\tQ28\\tQ29\\tQ30\\tQ31\\tQ32\\tQ33\\tQ34\\tQ35\\tQ36\\tQ37\\tQ38\\tQ39\\tQ40\\tQ41\\tQ42\\tQ43\\tQ44\\tintroelapse\\ttestelapse\\tcountry\\tfromgoogle\\tengnat\\tage\\teducation\\tgender\\torientation\\trace\\treligion\\thand    object\n",
       "dtype: object"
      ]
     },
     "execution_count": 4,
     "metadata": {},
     "output_type": "execute_result"
    }
   ],
   "source": [
    "data.dtypes"
   ]
  },
  {
   "cell_type": "code",
   "execution_count": 5,
   "metadata": {},
   "outputs": [
    {
     "data": {
      "text/plain": [
       "Index(['Q1\\tQ2\\tQ3\\tQ4\\tQ5\\tQ6\\tQ7\\tQ8\\tQ9\\tQ10\\tQ11\\tQ12\\tQ13\\tQ14\\tQ15\\tQ16\\tQ17\\tQ18\\tQ19\\tQ20\\tQ21\\tQ22\\tQ23\\tQ24\\tQ25\\tQ26\\tQ27\\tQ28\\tQ29\\tQ30\\tQ31\\tQ32\\tQ33\\tQ34\\tQ35\\tQ36\\tQ37\\tQ38\\tQ39\\tQ40\\tQ41\\tQ42\\tQ43\\tQ44\\tintroelapse\\ttestelapse\\tcountry\\tfromgoogle\\tengnat\\tage\\teducation\\tgender\\torientation\\trace\\treligion\\thand'], dtype='object')"
      ]
     },
     "execution_count": 5,
     "metadata": {},
     "output_type": "execute_result"
    }
   ],
   "source": [
    "data.columns"
   ]
  },
  {
   "cell_type": "code",
   "execution_count": 6,
   "metadata": {},
   "outputs": [
    {
     "name": "stdout",
     "output_type": "stream",
     "text": [
      "<class 'pandas.core.frame.DataFrame'>\n",
      "RangeIndex: 4184 entries, 0 to 4183\n",
      "Data columns (total 1 columns):\n",
      " #   Column                                                                                                                                                                                                                                                                       Non-Null Count  Dtype \n",
      "---  ------                                                                                                                                                                                                                                                                       --------------  ----- \n",
      " 0   Q1\tQ2\tQ3\tQ4\tQ5\tQ6\tQ7\tQ8\tQ9\tQ10\tQ11\tQ12\tQ13\tQ14\tQ15\tQ16\tQ17\tQ18\tQ19\tQ20\tQ21\tQ22\tQ23\tQ24\tQ25\tQ26\tQ27\tQ28\tQ29\tQ30\tQ31\tQ32\tQ33\tQ34\tQ35\tQ36\tQ37\tQ38\tQ39\tQ40\tQ41\tQ42\tQ43\tQ44\tintroelapse\ttestelapse\tcountry\tfromgoogle\tengnat\tage\teducation\tgender\torientation\trace\treligion\thand  4184 non-null   object\n",
      "dtypes: object(1)\n",
      "memory usage: 32.8+ KB\n"
     ]
    }
   ],
   "source": [
    "data.info()"
   ]
  },
  {
   "cell_type": "code",
   "execution_count": 7,
   "metadata": {},
   "outputs": [
    {
     "data": {
      "text/html": [
       "<div>\n",
       "<style scoped>\n",
       "    .dataframe tbody tr th:only-of-type {\n",
       "        vertical-align: middle;\n",
       "    }\n",
       "\n",
       "    .dataframe tbody tr th {\n",
       "        vertical-align: top;\n",
       "    }\n",
       "\n",
       "    .dataframe thead th {\n",
       "        text-align: right;\n",
       "    }\n",
       "</style>\n",
       "<table border=\"1\" class=\"dataframe\">\n",
       "  <thead>\n",
       "    <tr style=\"text-align: right;\">\n",
       "      <th></th>\n",
       "      <th>0</th>\n",
       "      <th>1</th>\n",
       "      <th>2</th>\n",
       "      <th>3</th>\n",
       "      <th>4</th>\n",
       "      <th>5</th>\n",
       "      <th>6</th>\n",
       "      <th>7</th>\n",
       "      <th>8</th>\n",
       "      <th>9</th>\n",
       "      <th>...</th>\n",
       "      <th>4174</th>\n",
       "      <th>4175</th>\n",
       "      <th>4176</th>\n",
       "      <th>4177</th>\n",
       "      <th>4178</th>\n",
       "      <th>4179</th>\n",
       "      <th>4180</th>\n",
       "      <th>4181</th>\n",
       "      <th>4182</th>\n",
       "      <th>4183</th>\n",
       "    </tr>\n",
       "  </thead>\n",
       "  <tbody>\n",
       "    <tr>\n",
       "      <th>Q1\\tQ2\\tQ3\\tQ4\\tQ5\\tQ6\\tQ7\\tQ8\\tQ9\\tQ10\\tQ11\\tQ12\\tQ13\\tQ14\\tQ15\\tQ16\\tQ17\\tQ18\\tQ19\\tQ20\\tQ21\\tQ22\\tQ23\\tQ24\\tQ25\\tQ26\\tQ27\\tQ28\\tQ29\\tQ30\\tQ31\\tQ32\\tQ33\\tQ34\\tQ35\\tQ36\\tQ37\\tQ38\\tQ39\\tQ40\\tQ41\\tQ42\\tQ43\\tQ44\\tintroelapse\\ttestelapse\\tcountry\\tfromgoogle\\tengnat\\tage\\teducation\\tgender\\torientation\\trace\\treligion\\thand</th>\n",
       "      <td>4\\t1\\t5\\t1\\t5\\t1\\t5\\t1\\t4\\t1\\t1\\t1\\t5\\t5\\t5\\t1...</td>\n",
       "      <td>1\\t5\\t1\\t4\\t2\\t5\\t5\\t4\\t1\\t5\\t2\\t5\\t3\\t4\\t1\\t4...</td>\n",
       "      <td>1\\t2\\t1\\t1\\t5\\t4\\t3\\t2\\t1\\t4\\t4\\t5\\t4\\t3\\t4\\t1...</td>\n",
       "      <td>1\\t4\\t1\\t5\\t1\\t4\\t5\\t4\\t3\\t5\\t1\\t3\\t2\\t3\\t1\\t5...</td>\n",
       "      <td>5\\t1\\t5\\t1\\t5\\t1\\t5\\t1\\t3\\t1\\t1\\t1\\t5\\t5\\t5\\t1...</td>\n",
       "      <td>5\\t4\\t2\\t2\\t1\\t1\\t3\\t3\\t3\\t1\\t1\\t2\\t2\\t2\\t3\\t1...</td>\n",
       "      <td>3\\t4\\t4\\t4\\t1\\t4\\t3\\t5\\t5\\t4\\t5\\t1\\t3\\t3\\t5\\t1...</td>\n",
       "      <td>1\\t2\\t1\\t1\\t1\\t4\\t1\\t2\\t5\\t3\\t5\\t1\\t3\\t1\\t5\\t1...</td>\n",
       "      <td>1\\t5\\t1\\t2\\t2\\t4\\t3\\t2\\t2\\t3\\t3\\t3\\t1\\t2\\t3\\t3...</td>\n",
       "      <td>1\\t4\\t3\\t1\\t1\\t3\\t5\\t2\\t2\\t5\\t3\\t3\\t1\\t2\\t1\\t3...</td>\n",
       "      <td>...</td>\n",
       "      <td>1\\t5\\t3\\t4\\t5\\t4\\t3\\t2\\t1\\t5\\t3\\t3\\t1\\t4\\t5\\t3...</td>\n",
       "      <td>1\\t4\\t1\\t1\\t4\\t5\\t4\\t3\\t1\\t4\\t1\\t2\\t4\\t3\\t1\\t5...</td>\n",
       "      <td>1\\t1\\t5\\t5\\t1\\t5\\t5\\t3\\t5\\t5\\t5\\t3\\t1\\t5\\t5\\t5...</td>\n",
       "      <td>1\\t3\\t4\\t3\\t3\\t5\\t5\\t2\\t1\\t5\\t3\\t2\\t1\\t2\\t1\\t1...</td>\n",
       "      <td>1\\t2\\t1\\t1\\t3\\t4\\t4\\t1\\t1\\t2\\t1\\t1\\t3\\t4\\t2\\t1...</td>\n",
       "      <td>3\\t5\\t4\\t5\\t2\\t4\\t2\\t2\\t2\\t5\\t3\\t1\\t1\\t2\\t2\\t4...</td>\n",
       "      <td>1\\t5\\t1\\t5\\t1\\t4\\t2\\t4\\t1\\t4\\t1\\t5\\t1\\t3\\t1\\t5...</td>\n",
       "      <td>3\\t2\\t2\\t4\\t5\\t4\\t5\\t2\\t2\\t5\\t5\\t1\\t3\\t2\\t5\\t2...</td>\n",
       "      <td>1\\t3\\t4\\t5\\t1\\t3\\t3\\t1\\t1\\t3\\t2\\t1\\t4\\t4\\t5\\t3...</td>\n",
       "      <td>2\\t5\\t3\\t3\\t5\\t3\\t4\\t3\\t1\\t5\\t5\\t2\\t3\\t5\\t4\\t1...</td>\n",
       "    </tr>\n",
       "  </tbody>\n",
       "</table>\n",
       "<p>1 rows × 4184 columns</p>\n",
       "</div>"
      ],
      "text/plain": [
       "                                                                                                 0     \\\n",
       "Q1\\tQ2\\tQ3\\tQ4\\tQ5\\tQ6\\tQ7\\tQ8\\tQ9\\tQ10\\tQ11\\tQ...  4\\t1\\t5\\t1\\t5\\t1\\t5\\t1\\t4\\t1\\t1\\t1\\t5\\t5\\t5\\t1...   \n",
       "\n",
       "                                                                                                 1     \\\n",
       "Q1\\tQ2\\tQ3\\tQ4\\tQ5\\tQ6\\tQ7\\tQ8\\tQ9\\tQ10\\tQ11\\tQ...  1\\t5\\t1\\t4\\t2\\t5\\t5\\t4\\t1\\t5\\t2\\t5\\t3\\t4\\t1\\t4...   \n",
       "\n",
       "                                                                                                 2     \\\n",
       "Q1\\tQ2\\tQ3\\tQ4\\tQ5\\tQ6\\tQ7\\tQ8\\tQ9\\tQ10\\tQ11\\tQ...  1\\t2\\t1\\t1\\t5\\t4\\t3\\t2\\t1\\t4\\t4\\t5\\t4\\t3\\t4\\t1...   \n",
       "\n",
       "                                                                                                 3     \\\n",
       "Q1\\tQ2\\tQ3\\tQ4\\tQ5\\tQ6\\tQ7\\tQ8\\tQ9\\tQ10\\tQ11\\tQ...  1\\t4\\t1\\t5\\t1\\t4\\t5\\t4\\t3\\t5\\t1\\t3\\t2\\t3\\t1\\t5...   \n",
       "\n",
       "                                                                                                 4     \\\n",
       "Q1\\tQ2\\tQ3\\tQ4\\tQ5\\tQ6\\tQ7\\tQ8\\tQ9\\tQ10\\tQ11\\tQ...  5\\t1\\t5\\t1\\t5\\t1\\t5\\t1\\t3\\t1\\t1\\t1\\t5\\t5\\t5\\t1...   \n",
       "\n",
       "                                                                                                 5     \\\n",
       "Q1\\tQ2\\tQ3\\tQ4\\tQ5\\tQ6\\tQ7\\tQ8\\tQ9\\tQ10\\tQ11\\tQ...  5\\t4\\t2\\t2\\t1\\t1\\t3\\t3\\t3\\t1\\t1\\t2\\t2\\t2\\t3\\t1...   \n",
       "\n",
       "                                                                                                 6     \\\n",
       "Q1\\tQ2\\tQ3\\tQ4\\tQ5\\tQ6\\tQ7\\tQ8\\tQ9\\tQ10\\tQ11\\tQ...  3\\t4\\t4\\t4\\t1\\t4\\t3\\t5\\t5\\t4\\t5\\t1\\t3\\t3\\t5\\t1...   \n",
       "\n",
       "                                                                                                 7     \\\n",
       "Q1\\tQ2\\tQ3\\tQ4\\tQ5\\tQ6\\tQ7\\tQ8\\tQ9\\tQ10\\tQ11\\tQ...  1\\t2\\t1\\t1\\t1\\t4\\t1\\t2\\t5\\t3\\t5\\t1\\t3\\t1\\t5\\t1...   \n",
       "\n",
       "                                                                                                 8     \\\n",
       "Q1\\tQ2\\tQ3\\tQ4\\tQ5\\tQ6\\tQ7\\tQ8\\tQ9\\tQ10\\tQ11\\tQ...  1\\t5\\t1\\t2\\t2\\t4\\t3\\t2\\t2\\t3\\t3\\t3\\t1\\t2\\t3\\t3...   \n",
       "\n",
       "                                                                                                 9     \\\n",
       "Q1\\tQ2\\tQ3\\tQ4\\tQ5\\tQ6\\tQ7\\tQ8\\tQ9\\tQ10\\tQ11\\tQ...  1\\t4\\t3\\t1\\t1\\t3\\t5\\t2\\t2\\t5\\t3\\t3\\t1\\t2\\t1\\t3...   \n",
       "\n",
       "                                                    ...  \\\n",
       "Q1\\tQ2\\tQ3\\tQ4\\tQ5\\tQ6\\tQ7\\tQ8\\tQ9\\tQ10\\tQ11\\tQ...  ...   \n",
       "\n",
       "                                                                                                 4174  \\\n",
       "Q1\\tQ2\\tQ3\\tQ4\\tQ5\\tQ6\\tQ7\\tQ8\\tQ9\\tQ10\\tQ11\\tQ...  1\\t5\\t3\\t4\\t5\\t4\\t3\\t2\\t1\\t5\\t3\\t3\\t1\\t4\\t5\\t3...   \n",
       "\n",
       "                                                                                                 4175  \\\n",
       "Q1\\tQ2\\tQ3\\tQ4\\tQ5\\tQ6\\tQ7\\tQ8\\tQ9\\tQ10\\tQ11\\tQ...  1\\t4\\t1\\t1\\t4\\t5\\t4\\t3\\t1\\t4\\t1\\t2\\t4\\t3\\t1\\t5...   \n",
       "\n",
       "                                                                                                 4176  \\\n",
       "Q1\\tQ2\\tQ3\\tQ4\\tQ5\\tQ6\\tQ7\\tQ8\\tQ9\\tQ10\\tQ11\\tQ...  1\\t1\\t5\\t5\\t1\\t5\\t5\\t3\\t5\\t5\\t5\\t3\\t1\\t5\\t5\\t5...   \n",
       "\n",
       "                                                                                                 4177  \\\n",
       "Q1\\tQ2\\tQ3\\tQ4\\tQ5\\tQ6\\tQ7\\tQ8\\tQ9\\tQ10\\tQ11\\tQ...  1\\t3\\t4\\t3\\t3\\t5\\t5\\t2\\t1\\t5\\t3\\t2\\t1\\t2\\t1\\t1...   \n",
       "\n",
       "                                                                                                 4178  \\\n",
       "Q1\\tQ2\\tQ3\\tQ4\\tQ5\\tQ6\\tQ7\\tQ8\\tQ9\\tQ10\\tQ11\\tQ...  1\\t2\\t1\\t1\\t3\\t4\\t4\\t1\\t1\\t2\\t1\\t1\\t3\\t4\\t2\\t1...   \n",
       "\n",
       "                                                                                                 4179  \\\n",
       "Q1\\tQ2\\tQ3\\tQ4\\tQ5\\tQ6\\tQ7\\tQ8\\tQ9\\tQ10\\tQ11\\tQ...  3\\t5\\t4\\t5\\t2\\t4\\t2\\t2\\t2\\t5\\t3\\t1\\t1\\t2\\t2\\t4...   \n",
       "\n",
       "                                                                                                 4180  \\\n",
       "Q1\\tQ2\\tQ3\\tQ4\\tQ5\\tQ6\\tQ7\\tQ8\\tQ9\\tQ10\\tQ11\\tQ...  1\\t5\\t1\\t5\\t1\\t4\\t2\\t4\\t1\\t4\\t1\\t5\\t1\\t3\\t1\\t5...   \n",
       "\n",
       "                                                                                                 4181  \\\n",
       "Q1\\tQ2\\tQ3\\tQ4\\tQ5\\tQ6\\tQ7\\tQ8\\tQ9\\tQ10\\tQ11\\tQ...  3\\t2\\t2\\t4\\t5\\t4\\t5\\t2\\t2\\t5\\t5\\t1\\t3\\t2\\t5\\t2...   \n",
       "\n",
       "                                                                                                 4182  \\\n",
       "Q1\\tQ2\\tQ3\\tQ4\\tQ5\\tQ6\\tQ7\\tQ8\\tQ9\\tQ10\\tQ11\\tQ...  1\\t3\\t4\\t5\\t1\\t3\\t3\\t1\\t1\\t3\\t2\\t1\\t4\\t4\\t5\\t3...   \n",
       "\n",
       "                                                                                                 4183  \n",
       "Q1\\tQ2\\tQ3\\tQ4\\tQ5\\tQ6\\tQ7\\tQ8\\tQ9\\tQ10\\tQ11\\tQ...  2\\t5\\t3\\t3\\t5\\t3\\t4\\t3\\t1\\t5\\t5\\t2\\t3\\t5\\t4\\t1...  \n",
       "\n",
       "[1 rows x 4184 columns]"
      ]
     },
     "execution_count": 7,
     "metadata": {},
     "output_type": "execute_result"
    }
   ],
   "source": [
    "data.transpose()"
   ]
  },
  {
   "cell_type": "code",
   "execution_count": 8,
   "metadata": {},
   "outputs": [
    {
     "data": {
      "text/html": [
       "<div>\n",
       "<style scoped>\n",
       "    .dataframe tbody tr th:only-of-type {\n",
       "        vertical-align: middle;\n",
       "    }\n",
       "\n",
       "    .dataframe tbody tr th {\n",
       "        vertical-align: top;\n",
       "    }\n",
       "\n",
       "    .dataframe thead th {\n",
       "        text-align: right;\n",
       "    }\n",
       "</style>\n",
       "<table border=\"1\" class=\"dataframe\">\n",
       "  <thead>\n",
       "    <tr style=\"text-align: right;\">\n",
       "      <th></th>\n",
       "      <th>Q1\\tQ2\\tQ3\\tQ4\\tQ5\\tQ6\\tQ7\\tQ8\\tQ9\\tQ10\\tQ11\\tQ12\\tQ13\\tQ14\\tQ15\\tQ16\\tQ17\\tQ18\\tQ19\\tQ20\\tQ21\\tQ22\\tQ23\\tQ24\\tQ25\\tQ26\\tQ27\\tQ28\\tQ29\\tQ30\\tQ31\\tQ32\\tQ33\\tQ34\\tQ35\\tQ36\\tQ37\\tQ38\\tQ39\\tQ40\\tQ41\\tQ42\\tQ43\\tQ44\\tintroelapse\\ttestelapse\\tcountry\\tfromgoogle\\tengnat\\tage\\teducation\\tgender\\torientation\\trace\\treligion\\thand</th>\n",
       "    </tr>\n",
       "  </thead>\n",
       "  <tbody>\n",
       "    <tr>\n",
       "      <th>0</th>\n",
       "      <td>4\\t1\\t5\\t1\\t5\\t1\\t5\\t1\\t4\\t1\\t1\\t1\\t5\\t5\\t5\\t1...</td>\n",
       "    </tr>\n",
       "    <tr>\n",
       "      <th>1</th>\n",
       "      <td>1\\t5\\t1\\t4\\t2\\t5\\t5\\t4\\t1\\t5\\t2\\t5\\t3\\t4\\t1\\t4...</td>\n",
       "    </tr>\n",
       "    <tr>\n",
       "      <th>2</th>\n",
       "      <td>1\\t2\\t1\\t1\\t5\\t4\\t3\\t2\\t1\\t4\\t4\\t5\\t4\\t3\\t4\\t1...</td>\n",
       "    </tr>\n",
       "    <tr>\n",
       "      <th>3</th>\n",
       "      <td>1\\t4\\t1\\t5\\t1\\t4\\t5\\t4\\t3\\t5\\t1\\t3\\t2\\t3\\t1\\t5...</td>\n",
       "    </tr>\n",
       "    <tr>\n",
       "      <th>4</th>\n",
       "      <td>5\\t1\\t5\\t1\\t5\\t1\\t5\\t1\\t3\\t1\\t1\\t1\\t5\\t5\\t5\\t1...</td>\n",
       "    </tr>\n",
       "    <tr>\n",
       "      <th>...</th>\n",
       "      <td>...</td>\n",
       "    </tr>\n",
       "    <tr>\n",
       "      <th>4179</th>\n",
       "      <td>3\\t5\\t4\\t5\\t2\\t4\\t2\\t2\\t2\\t5\\t3\\t1\\t1\\t2\\t2\\t4...</td>\n",
       "    </tr>\n",
       "    <tr>\n",
       "      <th>4180</th>\n",
       "      <td>1\\t5\\t1\\t5\\t1\\t4\\t2\\t4\\t1\\t4\\t1\\t5\\t1\\t3\\t1\\t5...</td>\n",
       "    </tr>\n",
       "    <tr>\n",
       "      <th>4181</th>\n",
       "      <td>3\\t2\\t2\\t4\\t5\\t4\\t5\\t2\\t2\\t5\\t5\\t1\\t3\\t2\\t5\\t2...</td>\n",
       "    </tr>\n",
       "    <tr>\n",
       "      <th>4182</th>\n",
       "      <td>1\\t3\\t4\\t5\\t1\\t3\\t3\\t1\\t1\\t3\\t2\\t1\\t4\\t4\\t5\\t3...</td>\n",
       "    </tr>\n",
       "    <tr>\n",
       "      <th>4183</th>\n",
       "      <td>2\\t5\\t3\\t3\\t5\\t3\\t4\\t3\\t1\\t5\\t5\\t2\\t3\\t5\\t4\\t1...</td>\n",
       "    </tr>\n",
       "  </tbody>\n",
       "</table>\n",
       "<p>4184 rows × 1 columns</p>\n",
       "</div>"
      ],
      "text/plain": [
       "     Q1\\tQ2\\tQ3\\tQ4\\tQ5\\tQ6\\tQ7\\tQ8\\tQ9\\tQ10\\tQ11\\tQ12\\tQ13\\tQ14\\tQ15\\tQ16\\tQ17\\tQ18\\tQ19\\tQ20\\tQ21\\tQ22\\tQ23\\tQ24\\tQ25\\tQ26\\tQ27\\tQ28\\tQ29\\tQ30\\tQ31\\tQ32\\tQ33\\tQ34\\tQ35\\tQ36\\tQ37\\tQ38\\tQ39\\tQ40\\tQ41\\tQ42\\tQ43\\tQ44\\tintroelapse\\ttestelapse\\tcountry\\tfromgoogle\\tengnat\\tage\\teducation\\tgender\\torientation\\trace\\treligion\\thand\n",
       "0     4\\t1\\t5\\t1\\t5\\t1\\t5\\t1\\t4\\t1\\t1\\t1\\t5\\t5\\t5\\t1...                                                                                                                                                                                                                                                                                \n",
       "1     1\\t5\\t1\\t4\\t2\\t5\\t5\\t4\\t1\\t5\\t2\\t5\\t3\\t4\\t1\\t4...                                                                                                                                                                                                                                                                                \n",
       "2     1\\t2\\t1\\t1\\t5\\t4\\t3\\t2\\t1\\t4\\t4\\t5\\t4\\t3\\t4\\t1...                                                                                                                                                                                                                                                                                \n",
       "3     1\\t4\\t1\\t5\\t1\\t4\\t5\\t4\\t3\\t5\\t1\\t3\\t2\\t3\\t1\\t5...                                                                                                                                                                                                                                                                                \n",
       "4     5\\t1\\t5\\t1\\t5\\t1\\t5\\t1\\t3\\t1\\t1\\t1\\t5\\t5\\t5\\t1...                                                                                                                                                                                                                                                                                \n",
       "...                                                 ...                                                                                                                                                                                                                                                                                \n",
       "4179  3\\t5\\t4\\t5\\t2\\t4\\t2\\t2\\t2\\t5\\t3\\t1\\t1\\t2\\t2\\t4...                                                                                                                                                                                                                                                                                \n",
       "4180  1\\t5\\t1\\t5\\t1\\t4\\t2\\t4\\t1\\t4\\t1\\t5\\t1\\t3\\t1\\t5...                                                                                                                                                                                                                                                                                \n",
       "4181  3\\t2\\t2\\t4\\t5\\t4\\t5\\t2\\t2\\t5\\t5\\t1\\t3\\t2\\t5\\t2...                                                                                                                                                                                                                                                                                \n",
       "4182  1\\t3\\t4\\t5\\t1\\t3\\t3\\t1\\t1\\t3\\t2\\t1\\t4\\t4\\t5\\t3...                                                                                                                                                                                                                                                                                \n",
       "4183  2\\t5\\t3\\t3\\t5\\t3\\t4\\t3\\t1\\t5\\t5\\t2\\t3\\t5\\t4\\t1...                                                                                                                                                                                                                                                                                \n",
       "\n",
       "[4184 rows x 1 columns]"
      ]
     },
     "execution_count": 8,
     "metadata": {},
     "output_type": "execute_result"
    }
   ],
   "source": [
    "data"
   ]
  },
  {
   "cell_type": "markdown",
   "metadata": {},
   "source": [
    "---\n",
    "## Step 4: Model the data.\n",
    "\n",
    "### 5. Suppose I wanted to use Q1 - Q44 to predict whether or not the person is left-handed. Would this be a classification or regression problem? Why?"
   ]
  },
  {
   "cell_type": "markdown",
   "metadata": {},
   "source": [
    "Answer: classification due to the data, being in  a discete form. Though in order to simplfiy this problem transposing into a regression problem may be advisable. "
   ]
  },
  {
   "cell_type": "markdown",
   "metadata": {},
   "source": [
    "### 6. We want to use $k$-nearest neighbors to predict whether or not a person is left-handed based on their responses to Q1 - Q44. Before doing that, however, you remember that it is often a good idea to standardize your variables. In general, why would we standardize our variables? Give an example of when we would standardize our variables."
   ]
  },
  {
   "cell_type": "markdown",
   "metadata": {},
   "source": [
    "Answer: Standardization is important when we compare measurements that have different units., in the case above since we have 4K+ units of variance it would be ideal to standardize. "
   ]
  },
  {
   "cell_type": "markdown",
   "metadata": {},
   "source": [
    "### 7. Give an example of when we might not standardize our variables."
   ]
  },
  {
   "cell_type": "markdown",
   "metadata": {},
   "source": [
    "Answer: whence variables are miniscule in variance which do not require transformation. "
   ]
  },
  {
   "cell_type": "markdown",
   "metadata": {},
   "source": [
    "### 8. Based on your answers to 6 and 7, do you think we should standardize our predictor variables in this case? Why or why not?"
   ]
  },
  {
   "cell_type": "markdown",
   "metadata": {},
   "source": [
    "Answer: Indeed, being the numerical count of variables in the dataset. "
   ]
  },
  {
   "cell_type": "markdown",
   "metadata": {},
   "source": [
    "### 9. We want to use $k$-nearest neighbors to predict whether or not a person is left-handed. What munging/cleaning do we need to do to our $y$ variable in order to explicitly answer this question? Do it."
   ]
  },
  {
   "cell_type": "markdown",
   "metadata": {},
   "source": [
    "Answer: "
   ]
  },
  {
   "cell_type": "code",
   "execution_count": null,
   "metadata": {
    "collapsed": true,
    "jupyter": {
     "outputs_hidden": true
    }
   },
   "outputs": [],
   "source": []
  },
  {
   "cell_type": "markdown",
   "metadata": {},
   "source": [
    "### 10. The professor for whom you work suggests that you set $k = 4$. In this specific case, why might this be a bad idea?"
   ]
  },
  {
   "cell_type": "markdown",
   "metadata": {},
   "source": [
    "Answer: "
   ]
  },
  {
   "cell_type": "markdown",
   "metadata": {},
   "source": [
    "### 11. Let's *(finally)* use $k$-nearest neighbors to predict whether or not a person is left-handed!\n",
    "\n",
    "> Be sure to create a train/test split with your data!\n",
    "\n",
    "> Create four separate models, one with $k = 3$, one with $k = 5$, one with $k = 15$, and one with $k = 25$.\n",
    "\n",
    "> Instantiate and fit your models."
   ]
  },
  {
   "cell_type": "code",
   "execution_count": null,
   "metadata": {
    "collapsed": true,
    "jupyter": {
     "outputs_hidden": true
    }
   },
   "outputs": [],
   "source": []
  },
  {
   "cell_type": "markdown",
   "metadata": {},
   "source": [
    "Being good data scientists, we know that we might not run just one type of model. We might run many different models and see which is best.\n",
    "\n",
    "### 12. We want to use logistic regression to predict whether or not a person is left-handed. Before we do that, let's check the [documentation for logistic regression in sklearn](http://scikit-learn.org/stable/modules/generated/sklearn.linear_model.LogisticRegression.html). Is there default regularization? If so, what is it? If not, how do you know?"
   ]
  },
  {
   "cell_type": "markdown",
   "metadata": {},
   "source": [
    "Answer: "
   ]
  },
  {
   "cell_type": "markdown",
   "metadata": {},
   "source": [
    "### 13. We want to use logistic regression to predict whether or not a person is left-handed. Before we do that, should we standardize our features?"
   ]
  },
  {
   "cell_type": "markdown",
   "metadata": {},
   "source": [
    "Answer:"
   ]
  },
  {
   "cell_type": "markdown",
   "metadata": {},
   "source": [
    "### 14. Let's use logistic regression to predict whether or not the person is left-handed.\n",
    "\n",
    "\n",
    "> Be sure to use the same train/test split with your data as with your $k$-NN model above!\n",
    "\n",
    "> Create four separate models, one with LASSO and $\\alpha = 1$, one with LASSO and $\\alpha = 10$, one with Ridge and $\\alpha = 1$, and one with Ridge and $\\alpha = 10$. *(Hint: Be careful with how you specify $\\alpha$ in your model!)*\n",
    "\n",
    "> Instantiate and fit your models."
   ]
  },
  {
   "cell_type": "code",
   "execution_count": null,
   "metadata": {
    "collapsed": true,
    "jupyter": {
     "outputs_hidden": true
    }
   },
   "outputs": [],
   "source": []
  },
  {
   "cell_type": "markdown",
   "metadata": {},
   "source": [
    "---\n",
    "## Step 5: Evaluate the model(s).\n",
    "\n",
    "### 15. Before calculating any score on your data, take a step back. Think about your $X$ variable and your $Y$ variable. Do you think your $X$ variables will do a good job of predicting your $Y$ variable? Why or why not? What impact do you think this will have on your scores?"
   ]
  },
  {
   "cell_type": "markdown",
   "metadata": {},
   "source": [
    "Answer:"
   ]
  },
  {
   "cell_type": "markdown",
   "metadata": {},
   "source": [
    "### 16. Using accuracy as your metric, evaluate all eight of your models on both the training and testing sets. Put your scores below. (If you want to be fancy and generate a table in Markdown, there's a [Markdown table generator site linked here](https://www.tablesgenerator.com/markdown_tables#).)\n",
    "- Note: Your answers here might look a little weird. You didn't do anything wrong; that's to be expected!"
   ]
  },
  {
   "cell_type": "markdown",
   "metadata": {},
   "source": [
    "Answer:"
   ]
  },
  {
   "cell_type": "markdown",
   "metadata": {},
   "source": [
    "### 17. In which of your $k$-NN models is there evidence of overfitting? How do you know?"
   ]
  },
  {
   "cell_type": "markdown",
   "metadata": {},
   "source": [
    "Answer:"
   ]
  },
  {
   "cell_type": "markdown",
   "metadata": {},
   "source": [
    "### 18. Broadly speaking, how does the value of $k$ in $k$-NN affect the bias-variance tradeoff? (i.e. As $k$ increases, how are bias and variance affected?)"
   ]
  },
  {
   "cell_type": "markdown",
   "metadata": {},
   "source": [
    "Answer:"
   ]
  },
  {
   "cell_type": "markdown",
   "metadata": {},
   "source": [
    "### 19. If you have a $k$-NN model that has evidence of overfitting, what are three things you might try to do to combat overfitting?"
   ]
  },
  {
   "cell_type": "markdown",
   "metadata": {},
   "source": [
    "Answer:"
   ]
  },
  {
   "cell_type": "markdown",
   "metadata": {},
   "source": [
    "### 20. In which of your logistic regression models is there evidence of overfitting? How do you know?"
   ]
  },
  {
   "cell_type": "markdown",
   "metadata": {},
   "source": [
    "Answer:"
   ]
  },
  {
   "cell_type": "markdown",
   "metadata": {},
   "source": [
    "### 21. Broadly speaking, how does the value of $C$ in logistic regression affect the bias-variance tradeoff? (i.e. As $C$ increases, how are bias and variance affected?)"
   ]
  },
  {
   "cell_type": "markdown",
   "metadata": {},
   "source": [
    "Answer:"
   ]
  },
  {
   "cell_type": "markdown",
   "metadata": {},
   "source": [
    "### 22. For your logistic regression models, play around with the regularization hyperparameter, $C$. As you vary $C$, what happens to the fit and coefficients in the model? What do you think this means in the context of this specific problem?"
   ]
  },
  {
   "cell_type": "markdown",
   "metadata": {},
   "source": [
    "Answer:"
   ]
  },
  {
   "cell_type": "markdown",
   "metadata": {},
   "source": [
    "### 23. If you have a logistic regression model that has evidence of overfitting, what are three things you might try to do to combat overfitting?"
   ]
  },
  {
   "cell_type": "markdown",
   "metadata": {},
   "source": [
    "Answer:"
   ]
  },
  {
   "cell_type": "markdown",
   "metadata": {},
   "source": [
    "---\n",
    "## Step 6: Answer the problem.\n",
    "\n",
    "### 24. Suppose you want to understand which psychological features are most important in determining left-handedness. Would you rather use $k$-NN or logistic regression? Why?"
   ]
  },
  {
   "cell_type": "markdown",
   "metadata": {},
   "source": [
    "Answer:"
   ]
  },
  {
   "cell_type": "markdown",
   "metadata": {},
   "source": [
    "### 25. Select your logistic regression model that utilized LASSO regularization with $\\alpha = 1$. Interpret the coefficient for `Q1`."
   ]
  },
  {
   "cell_type": "markdown",
   "metadata": {},
   "source": [
    "Answer:"
   ]
  },
  {
   "cell_type": "markdown",
   "metadata": {},
   "source": [
    "### 26. If you have to select one model overall to be your *best* model, which model would you select? Why?\n",
    "- Usually in the \"real world,\" you'll fit many types of models but ultimately need to pick only one! (For example, a client may not understand what it means to have multiple models, or if you're using an algorithm to make a decision, it's probably pretty challenging to use two or more algorithms simultaneously.) It's not always an easy choice, but you'll have to make it soon enough. Pick a model and defend why you picked this model!"
   ]
  },
  {
   "cell_type": "markdown",
   "metadata": {},
   "source": [
    "Answer:"
   ]
  },
  {
   "cell_type": "markdown",
   "metadata": {},
   "source": [
    "### 27. Circle back to the three specific and conclusively answerable questions you came up with in Q1. Answer one of these for the professor based on the model you selected!"
   ]
  },
  {
   "cell_type": "markdown",
   "metadata": {},
   "source": [
    "Answer:"
   ]
  },
  {
   "cell_type": "markdown",
   "metadata": {},
   "source": [
    "### BONUS:\n",
    "Looking for more to do? Probably not - you're busy! But if you want to, consider exploring the following. (They could make for a blog post!)\n",
    "- Create a visual plot comparing training and test metrics for various values of $k$ and various regularization schemes in logistic regression.\n",
    "- Rather than just evaluating models based on accuracy, consider using sensitivity, specificity, etc.\n",
    "- In the context of predicting left-handedness, why are unbalanced classes concerning? If you were to re-do this process given those concerns, what changes might you make?\n",
    "- Fit and evaluate a generalized linear model other than logistic regression (e.g. Poisson regression).\n",
    "- Suppose this data were in a `SQL` database named `data` and a table named `inventory`. What `SQL` query would return the count of people who were right-handed, left-handed, both, or missing with their class labels of 1, 2, 3, and 0, respectively? (You can assume you've already logged into the database.)"
   ]
  },
  {
   "cell_type": "code",
   "execution_count": null,
   "metadata": {
    "collapsed": true,
    "jupyter": {
     "outputs_hidden": true
    }
   },
   "outputs": [],
   "source": []
  }
 ],
 "metadata": {
  "kernelspec": {
   "display_name": "Python 3",
   "language": "python",
   "name": "python3"
  },
  "language_info": {
   "codemirror_mode": {
    "name": "ipython",
    "version": 3
   },
   "file_extension": ".py",
   "mimetype": "text/x-python",
   "name": "python",
   "nbconvert_exporter": "python",
   "pygments_lexer": "ipython3",
   "version": "3.7.6"
  }
 },
 "nbformat": 4,
 "nbformat_minor": 4
}
